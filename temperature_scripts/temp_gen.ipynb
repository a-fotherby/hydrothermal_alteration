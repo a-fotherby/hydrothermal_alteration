{
 "cells": [
  {
   "cell_type": "code",
   "execution_count": 2,
   "outputs": [],
   "source": [
    "import numpy as np\n",
    "\n",
    "t_low = np.ones(4) * 2\n",
    "t_high_2 = [315.0, 280.4, 203.6, 174.8]\n",
    "t_high_15 = [315.2, 280.4, 245.6, 210.8]\n",
    "file_names = ['A', 'B', 'C', 'D']\n",
    "num_blocks = 1000\n",
    "\n",
    "for i, j, fs in zip(t_low, t_high_2, file_names):\n",
    "    with open(f'2_{fs}.txt', 'w') as file:\n",
    "        for temp in np.linspace(i, j, num_blocks):\n",
    "            file.write(f'{temp}\\n')\n",
    "        file.close()"
   ],
   "metadata": {
    "collapsed": false
   }
  },
  {
   "cell_type": "code",
   "execution_count": null,
   "outputs": [],
   "source": [],
   "metadata": {
    "collapsed": false
   }
  }
 ],
 "metadata": {
  "kernelspec": {
   "display_name": "Python 3",
   "language": "python",
   "name": "python3"
  },
  "language_info": {
   "codemirror_mode": {
    "name": "ipython",
    "version": 2
   },
   "file_extension": ".py",
   "mimetype": "text/x-python",
   "name": "python",
   "nbconvert_exporter": "python",
   "pygments_lexer": "ipython2",
   "version": "2.7.6"
  }
 },
 "nbformat": 4,
 "nbformat_minor": 0
}
