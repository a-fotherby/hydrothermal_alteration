{
 "cells": [
  {
   "cell_type": "code",
   "execution_count": 3,
   "outputs": [],
   "source": [
    "import numpy as np\n",
    "\n",
    "t_bw = 2 # deg Celcius\n",
    "t_change = 200 #deg Celcius\n",
    "t_end = 300 # deg Celcius\n",
    "num_blocks = 500\n",
    "block_length = 2 # meter\n",
    "\n",
    "grad_change_depth = 750 # meters\n",
    "grad_change_ind = int(grad_change_depth / block_length)\n",
    "\n",
    "t_array = np.empty(num_blocks)\n",
    "\n",
    "t_array[0:grad_change_ind] = np.linspace(t_bw, t_change, grad_change_ind, endpoint=False)\n",
    "\n",
    "t_array[grad_change_ind:] = np.linspace(t_change, t_end, num_blocks - grad_change_ind)\n",
    "\n",
    "with open('on_axis_temp.txt', 'w') as file:\n",
    "    for temp in t_array:\n",
    "        file.write(f'{temp}\\n')\n",
    "    file.close()"
   ],
   "metadata": {
    "collapsed": false
   }
  },
  {
   "cell_type": "code",
   "execution_count": 6,
   "outputs": [],
   "source": [
    "np.linspace??"
   ],
   "metadata": {
    "collapsed": false
   }
  },
  {
   "cell_type": "code",
   "execution_count": null,
   "outputs": [],
   "source": [],
   "metadata": {
    "collapsed": false
   }
  }
 ],
 "metadata": {
  "kernelspec": {
   "display_name": "Python 3",
   "language": "python",
   "name": "python3"
  },
  "language_info": {
   "codemirror_mode": {
    "name": "ipython",
    "version": 2
   },
   "file_extension": ".py",
   "mimetype": "text/x-python",
   "name": "python",
   "nbconvert_exporter": "python",
   "pygments_lexer": "ipython2",
   "version": "2.7.6"
  }
 },
 "nbformat": 4,
 "nbformat_minor": 0
}
