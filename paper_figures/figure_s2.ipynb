{
 "cells": [
  {
   "cell_type": "markdown",
   "metadata": {
    "collapsed": false
   },
   "source": [
    "# Plot bar chart comparing fluid compositions"
   ]
  },
  {
   "cell_type": "code",
   "execution_count": 20,
   "metadata": {
    "ExecuteTime": {
     "end_time": "2023-08-21T20:15:47.913245Z",
     "start_time": "2023-08-21T20:15:46.040101Z"
    },
    "collapsed": false
   },
   "outputs": [
    {
     "name": "stdout",
     "output_type": "stream",
     "text": [
      "The autoreload extension is already loaded. To reload it, use:\n",
      "  %reload_ext autoreload\n",
      "Primary minerals: ['Anorthite', 'Albite', 'Diopside', 'Hedenbergite', 'Forsterite', 'Fayalite']\n",
      "Secondary minerals: ['Tremolite', 'Prehnite', 'Talc', 'Quartz', 'Saponite_Mg', 'Zoisite', 'Chamosite', 'Clinochlore', 'Analcime', 'Anhydrite', 'Calcite', 'Annite']\n",
      "Primary mineral groups: {'olivine': ['Forsterite', 'Fayalite'], 'clinopyroxenes': ['Diopside', 'Hedenbergite'], 'plagioclases': ['Anorthite', 'Albite']}\n",
      "Secondary mineral groups: {'clays': ['Saponite_Mg', 'Chamosite', 'Clinochlore'], 'zeolites': ['Analcime'], 'amphiboles': ['Tremolite'], 'inosilicates': ['Prehnite'], 'talc': ['Talc'], 'epidotes': ['Zoisite'], 'sulfates': ['Anhydrite'], 'carbonates': ['Calcite'], 'quartz': ['Quartz'], 'mica': ['Annite']}\n"
     ]
    }
   ],
   "source": [
    "%load_ext autoreload\n",
    "%autoreload 2\n",
    "#%run ct_data.py '../crunchtope_model/hydrothermal_crunch.nc' -c pH totcon\n",
    "%run pf_data.py '../pflo_revisions/hydrothermal.nc'\n",
    "%run figures.py\n",
    "import cmcrameri.cm as cm\n",
    "import numpy as np"
   ]
  },
  {
   "cell_type": "code",
   "execution_count": 21,
   "metadata": {
    "ExecuteTime": {
     "end_time": "2023-08-21T20:15:47.931828Z",
     "start_time": "2023-08-21T20:15:47.913621Z"
    },
    "collapsed": false
   },
   "outputs": [],
   "source": [
    "vent_fluid = {'H+': 6.31e-5, 'Mg++': 1.0e-12, 'Ca++': 40e-3, 'HCO3-': 2.0e-8, 'SO4--': 1e-6, 'SiO2(aq)': 2.02e-2, 'Na+': 0.497}\n",
    "seawater = {'H+': 10**(-8.15), 'Mg++': 0.0528, 'Ca++': 0.0103, 'HCO3-': 0.002, 'SO4--': 0.0282, 'SiO2(aq)': 0, 'Na+': 0.475}"
   ]
  },
  {
   "cell_type": "code",
   "execution_count": 22,
   "metadata": {
    "ExecuteTime": {
     "end_time": "2023-08-21T20:15:47.975188Z",
     "start_time": "2023-08-21T20:15:47.956922Z"
    },
    "collapsed": false
   },
   "outputs": [],
   "source": [
    "pf_data = pf_data.sel(file_number=6)\n",
    "\n",
    "# Prepend 'Total_' to each key and return as a list\n",
    "pf_keys = ['Total_' + key for key in vent_fluid.keys()]\n",
    "pf_keys.remove('Total_H+')\n",
    "pf_keys.append('pH')\n",
    "pf_vals = pf_data.sel(x=0, z=1000, time=1000, method='nearest')[pf_keys]\n",
    "\n",
    "# Convert values of each variable to a list\n",
    "pf_dict = {var: pf_vals[var].values.tolist() for var in pf_vals.data_vars}\n",
    "# Output the result\n",
    "pf_values = list(pf_dict.values())\n",
    "pf_values = np.array(pf_values) * 1000\n",
    "pf_values = pf_values.flatten()\n",
    "pf_values[-1] = pf_values[-1] / 1000"
   ]
  },
  {
   "cell_type": "code",
   "execution_count": null,
   "metadata": {},
   "outputs": [
    {
     "name": "stdout",
     "output_type": "stream",
     "text": [
      "[[ 497.     0.    24.     0.     0.    12.9    4. ]\n",
      " [-497.     0.    27.7    0.     0.     0.8    6. ]]\n"
     ]
    },
    {
     "ename": "ValueError",
     "evalue": "'yerr' must not contain negative values",
     "output_type": "error",
     "traceback": [
      "\u001b[0;31m---------------------------------------------------------------------------\u001b[0m",
      "\u001b[0;31mValueError\u001b[0m                                Traceback (most recent call last)",
      "Cell \u001b[0;32mIn[24], line 62\u001b[0m\n\u001b[1;32m     60\u001b[0m     \u001b[38;5;66;03m# Add error bars for the Vent Fluid data\u001b[39;00m\n\u001b[1;32m     61\u001b[0m     \u001b[38;5;28;01mif\u001b[39;00m label \u001b[38;5;241m==\u001b[39m \u001b[38;5;124m'\u001b[39m\u001b[38;5;124mVent Fluid\u001b[39m\u001b[38;5;124m'\u001b[39m:\n\u001b[0;32m---> 62\u001b[0m         \u001b[43max\u001b[49m\u001b[38;5;241;43m.\u001b[39;49m\u001b[43merrorbar\u001b[49m\u001b[43m(\u001b[49m\u001b[43mx_positions\u001b[49m\u001b[43m \u001b[49m\u001b[38;5;241;43m+\u001b[39;49m\u001b[43m \u001b[49m\u001b[43moffset\u001b[49m\u001b[43m,\u001b[49m\u001b[43m \u001b[49m\u001b[43mdata\u001b[49m\u001b[43m,\u001b[49m\u001b[43m \u001b[49m\u001b[43myerr\u001b[49m\u001b[38;5;241;43m=\u001b[39;49m\u001b[43merror_limits\u001b[49m\u001b[43m,\u001b[49m\u001b[43m \u001b[49m\u001b[43mfmt\u001b[49m\u001b[38;5;241;43m=\u001b[39;49m\u001b[38;5;124;43m'\u001b[39;49m\u001b[38;5;124;43mnone\u001b[39;49m\u001b[38;5;124;43m'\u001b[39;49m\u001b[43m,\u001b[49m\u001b[43m \u001b[49m\u001b[43mc\u001b[49m\u001b[38;5;241;43m=\u001b[39;49m\u001b[38;5;124;43m'\u001b[39;49m\u001b[38;5;124;43mk\u001b[39;49m\u001b[38;5;124;43m'\u001b[39;49m\u001b[43m,\u001b[49m\u001b[43m \u001b[49m\u001b[43mcapsize\u001b[49m\u001b[38;5;241;43m=\u001b[39;49m\u001b[38;5;241;43m10\u001b[39;49m\u001b[43m)\u001b[49m\n\u001b[1;32m     64\u001b[0m \u001b[38;5;66;03m# Create a secondary y-axis for the pH data\u001b[39;00m\n\u001b[1;32m     65\u001b[0m ax2 \u001b[38;5;241m=\u001b[39m ax\u001b[38;5;241m.\u001b[39mtwinx()\n",
      "File \u001b[0;32m~/miniconda3/envs/topepan/lib/python3.11/site-packages/matplotlib/__init__.py:1442\u001b[0m, in \u001b[0;36m_preprocess_data.<locals>.inner\u001b[0;34m(ax, data, *args, **kwargs)\u001b[0m\n\u001b[1;32m   1439\u001b[0m \u001b[38;5;129m@functools\u001b[39m\u001b[38;5;241m.\u001b[39mwraps(func)\n\u001b[1;32m   1440\u001b[0m \u001b[38;5;28;01mdef\u001b[39;00m \u001b[38;5;21minner\u001b[39m(ax, \u001b[38;5;241m*\u001b[39margs, data\u001b[38;5;241m=\u001b[39m\u001b[38;5;28;01mNone\u001b[39;00m, \u001b[38;5;241m*\u001b[39m\u001b[38;5;241m*\u001b[39mkwargs):\n\u001b[1;32m   1441\u001b[0m     \u001b[38;5;28;01mif\u001b[39;00m data \u001b[38;5;129;01mis\u001b[39;00m \u001b[38;5;28;01mNone\u001b[39;00m:\n\u001b[0;32m-> 1442\u001b[0m         \u001b[38;5;28;01mreturn\u001b[39;00m \u001b[43mfunc\u001b[49m\u001b[43m(\u001b[49m\u001b[43max\u001b[49m\u001b[43m,\u001b[49m\u001b[43m \u001b[49m\u001b[38;5;241;43m*\u001b[39;49m\u001b[38;5;28;43mmap\u001b[39;49m\u001b[43m(\u001b[49m\u001b[43msanitize_sequence\u001b[49m\u001b[43m,\u001b[49m\u001b[43m \u001b[49m\u001b[43margs\u001b[49m\u001b[43m)\u001b[49m\u001b[43m,\u001b[49m\u001b[43m \u001b[49m\u001b[38;5;241;43m*\u001b[39;49m\u001b[38;5;241;43m*\u001b[39;49m\u001b[43mkwargs\u001b[49m\u001b[43m)\u001b[49m\n\u001b[1;32m   1444\u001b[0m     bound \u001b[38;5;241m=\u001b[39m new_sig\u001b[38;5;241m.\u001b[39mbind(ax, \u001b[38;5;241m*\u001b[39margs, \u001b[38;5;241m*\u001b[39m\u001b[38;5;241m*\u001b[39mkwargs)\n\u001b[1;32m   1445\u001b[0m     auto_label \u001b[38;5;241m=\u001b[39m (bound\u001b[38;5;241m.\u001b[39marguments\u001b[38;5;241m.\u001b[39mget(label_namer)\n\u001b[1;32m   1446\u001b[0m                   \u001b[38;5;129;01mor\u001b[39;00m bound\u001b[38;5;241m.\u001b[39mkwargs\u001b[38;5;241m.\u001b[39mget(label_namer))\n",
      "File \u001b[0;32m~/miniconda3/envs/topepan/lib/python3.11/site-packages/matplotlib/axes/_axes.py:3642\u001b[0m, in \u001b[0;36mAxes.errorbar\u001b[0;34m(self, x, y, yerr, xerr, fmt, ecolor, elinewidth, capsize, barsabove, lolims, uplims, xlolims, xuplims, errorevery, capthick, **kwargs)\u001b[0m\n\u001b[1;32m   3639\u001b[0m res \u001b[38;5;241m=\u001b[39m np\u001b[38;5;241m.\u001b[39mzeros(err\u001b[38;5;241m.\u001b[39mshape, dtype\u001b[38;5;241m=\u001b[39m\u001b[38;5;28mbool\u001b[39m)  \u001b[38;5;66;03m# Default in case of nan\u001b[39;00m\n\u001b[1;32m   3640\u001b[0m \u001b[38;5;28;01mif\u001b[39;00m np\u001b[38;5;241m.\u001b[39many(np\u001b[38;5;241m.\u001b[39mless(err, \u001b[38;5;241m-\u001b[39merr, out\u001b[38;5;241m=\u001b[39mres, where\u001b[38;5;241m=\u001b[39m(err \u001b[38;5;241m==\u001b[39m err))):\n\u001b[1;32m   3641\u001b[0m     \u001b[38;5;66;03m# like err<0, but also works for timedelta and nan.\u001b[39;00m\n\u001b[0;32m-> 3642\u001b[0m     \u001b[38;5;28;01mraise\u001b[39;00m \u001b[38;5;167;01mValueError\u001b[39;00m(\n\u001b[1;32m   3643\u001b[0m         \u001b[38;5;124mf\u001b[39m\u001b[38;5;124m\"\u001b[39m\u001b[38;5;124m'\u001b[39m\u001b[38;5;132;01m{\u001b[39;00mdep_axis\u001b[38;5;132;01m}\u001b[39;00m\u001b[38;5;124merr\u001b[39m\u001b[38;5;124m'\u001b[39m\u001b[38;5;124m must not contain negative values\u001b[39m\u001b[38;5;124m\"\u001b[39m)\n\u001b[1;32m   3644\u001b[0m \u001b[38;5;66;03m# This is like\u001b[39;00m\n\u001b[1;32m   3645\u001b[0m \u001b[38;5;66;03m#     elow, ehigh = np.broadcast_to(...)\u001b[39;00m\n\u001b[1;32m   3646\u001b[0m \u001b[38;5;66;03m#     return dep - elow * ~lolims, dep + ehigh * ~uplims\u001b[39;00m\n\u001b[1;32m   3647\u001b[0m \u001b[38;5;66;03m# except that broadcast_to would strip units.\u001b[39;00m\n\u001b[1;32m   3648\u001b[0m low, high \u001b[38;5;241m=\u001b[39m dep \u001b[38;5;241m+\u001b[39m np\u001b[38;5;241m.\u001b[39mrow_stack([\u001b[38;5;241m-\u001b[39m(\u001b[38;5;241m1\u001b[39m \u001b[38;5;241m-\u001b[39m lolims), \u001b[38;5;241m1\u001b[39m \u001b[38;5;241m-\u001b[39m uplims]) \u001b[38;5;241m*\u001b[39m err\n",
      "\u001b[0;31mValueError\u001b[0m: 'yerr' must not contain negative values"
     ]
    },
    {
     "data": {
      "image/png": "[encoded data removed]",
      "text/plain": [
       "<Figure size 1000x1000 with 1 Axes>"
      ]
     },
     "metadata": {},
     "output_type": "display_data"
    }
   ],
   "source": [
    "import matplotlib.pyplot as plt\n",
    "import numpy as np\n",
    "import matplotlib as mpl\n",
    "\n",
    "# Set global plot parameters\n",
    "mpl.rcParams['axes.linewidth'] = 3\n",
    "\n",
    "# Create figure and axis\n",
    "fig, ax = plt.subplots(figsize=(10, 10))\n",
    "ax.grid(False)\n",
    "ax.tick_params(length=8, width=4)\n",
    "\n",
    "# Helper function to set tick label styles\n",
    "def set_tick_styles(axis, fontsize, fontweight):\n",
    "    for tick in axis.get_major_ticks():\n",
    "        tick.label1.set_fontweight(fontweight)\n",
    "        tick.label1.set_fontsize(fontsize)\n",
    "        tick.label2.set_fontweight(fontweight)\n",
    "\n",
    "set_tick_styles(ax.xaxis, 16, 'bold')\n",
    "set_tick_styles(ax.yaxis, 16, 'bold')\n",
    "\n",
    "# Define chemical species for the x-axis labels\n",
    "chemical_species = ['Na$^{\\\\mathbf{+}}$',\n",
    "    'Mg$^{\\\\mathbf{2+}}$', 'Ca$^{\\\\mathbf{2+}}$', 'HCO$\\\\mathbf{_3^-}$', \n",
    "    'SO$\\\\mathbf{_4^{2-}}$', 'H$\\\\mathbf{_4}$SiO$\\\\mathbf{_{4(aq)}}$', 'pH'\n",
    "]\n",
    "\n",
    "# Data for different fluid types; pf_values is assumed to be defined as a numpy array\n",
    "chemistry_data = {\n",
    "    'Seawater': np.array([475, 52.8, 10.3, 2.02, 28.2, 0, 8.15]),\n",
    "    'Vent Fluid': np.array([497, 0, 40, 0, 0, 20.2, 5.5]),\n",
    "    'PFLOTRAN Model': np.array(pf_values)\n",
    "}\n",
    "\n",
    "# Define error bar limits for the Vent Fluid data\n",
    "# The lower and upper bounds for each chemical species are provided,\n",
    "# and we compute the error margins relative to the Vent Fluid values.\n",
    "vent_data = chemistry_data['Vent Fluid']\n",
    "vent_lower_bounds = np.array([497, 0, 16, 0, 0, 7.3, 1.5])\n",
    "vent_upper_bounds = np.array([497, 0, 67.7, 0, 0, 21, 11.5])\n",
    "error_lower = vent_data - vent_lower_bounds\n",
    "error_upper = vent_upper_bounds - vent_data\n",
    "error_limits = np.vstack((error_lower, error_upper))\n",
    "print(error_limits)\n",
    "\n",
    "# Bar plot settings\n",
    "num_species = len(chemical_species)\n",
    "x_positions = np.arange(num_species)\n",
    "bar_width = 0.2\n",
    "\n",
    "# Colors and hatch patterns for each dataset (adjust or add more if needed)\n",
    "colors = ['b', 'r', 'y', 'g']\n",
    "hatches = [None, None, None, None]\n",
    "\n",
    "# Plot each dataset as a set of bars\n",
    "for idx, (label, data) in enumerate(chemistry_data.items()):\n",
    "    offset = idx * bar_width\n",
    "    ax.bar(x_positions + offset, data, bar_width, label=label, color=colors[idx], hatch=hatches[idx])\n",
    "    # Add error bars for the Vent Fluid data\n",
    "    if label == 'Vent Fluid':\n",
    "        ax.errorbar(x_positions + offset, data, yerr=error_limits, fmt='none', c='k', capsize=10)\n",
    "\n",
    "# Create a secondary y-axis for the pH data\n",
    "ax2 = ax.twinx()\n",
    "ax2.set_ylim(0, 8)\n",
    "ax2.set_ylabel('pH', size=20, weight='bold')\n",
    "set_tick_styles(ax2.yaxis, 20, 'bold')\n",
    "\n",
    "# Set the primary y-axis label and x-axis tick labels\n",
    "ax.set_ylabel('Concentration / mM', size=20, weight='bold')\n",
    "ax.set_xticks(x_positions + bar_width)\n",
    "ax.set_xticklabels(chemical_species)\n",
    "\n",
    "# Add a legend\n",
    "ax.legend(loc='upper right', ncols=1, prop={'weight': 'bold', 'size': 15})\n",
    "\n",
    "# Save the figure\n",
    "fig.savefig('output/figure_s1.png', dpi=300)\n"
   ]
  },
  {
   "cell_type": "code",
   "execution_count": null,
   "metadata": {
    "collapsed": false
   },
   "outputs": [],
   "source": []
  }
 ],
 "metadata": {
  "kernelspec": {
   "display_name": "topepan",
   "language": "python",
   "name": "python3"
  },
  "language_info": {
   "codemirror_mode": {
    "name": "ipython",
    "version": 3
   },
   "file_extension": ".py",
   "mimetype": "text/x-python",
   "name": "python",
   "nbconvert_exporter": "python",
   "pygments_lexer": "ipython3",
   "version": "3.11.0"
  }
 },
 "nbformat": 4,
 "nbformat_minor": 0
}
