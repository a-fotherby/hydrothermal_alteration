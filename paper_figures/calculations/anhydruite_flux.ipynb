{
 "cells": [
  {
   "cell_type": "code",
   "execution_count": 4,
   "metadata": {},
   "outputs": [
    {
     "name": "stdout",
     "output_type": "stream",
     "text": [
      "The autoreload extension is already loaded. To reload it, use:\n",
      "  %reload_ext autoreload\n",
      "Primary minerals: ['Anorthite', 'Albite', 'Diopside', 'Hedenbergite', 'Forsterite', 'Fayalite']\n",
      "Secondary minerals: ['Tremolite', 'Prehnite', 'Talc', 'Quartz', 'Saponite_Mg', 'Epidote', 'Zoisite', 'Chamosite', 'Clinochlore', 'Analcime', 'Anhydrite', 'Calcite']\n",
      "Primary mineral groups: {'olivine': ['Forsterite', 'Fayalite'], 'clinopyroxenes': ['Diopside', 'Hedenbergite'], 'plagioclases': ['Anorthite', 'Albite']}\n",
      "Secondary mineral groups: {'clays': ['Saponite_Mg', 'Chamosite', 'Clinochlore'], 'zeolites': ['Analcime'], 'amphiboles': ['Tremolite'], 'inosilicates': ['Prehnite'], 'serpentinites': ['Talc'], 'epidotes': ['Epidote', 'Zoisite'], 'sulfates': ['Anhydrite'], 'carbonates': ['Calcite']}\n"
     ]
    }
   ],
   "source": [
    "%load_ext autoreload\n",
    "%autoreload 2\n",
    "%run '../pf_data.py' '~/work/hydrothermal_alteration/pflotran_model/little_dev_model/partial_equil/partial_equil.h5'\n",
    "#%run '../ct_data.py' '../crunchtope_model/results.nc' -c volume"
   ]
  },
  {
   "cell_type": "code",
   "execution_count": 5,
   "metadata": {},
   "outputs": [],
   "source": [
    "# Parameters\n",
    "basecase = 4\n",
    "time = 1000"
   ]
  },
  {
   "cell_type": "code",
   "execution_count": 6,
   "metadata": {},
   "outputs": [
    {
     "name": "stdout",
     "output_type": "stream",
     "text": [
      "0.0805123814262469\n",
      "0.2501897316905923\n"
     ]
    }
   ],
   "source": [
    "\n",
    "def total_volume(data, mineral):\n",
    "    # Sum variables over all coordinates and select the final time \n",
    "    total_vf = data.sum(dim=('x','y','z')).sel(time=time)[mineral].to_numpy()\n",
    "    print(total_vf)\n",
    "    total_volume = total_vf * 46.9 * 46.9 * 100 # m^3 \n",
    "\n",
    "    return total_volume\n",
    "\n",
    "def volume_to_moles(volume, molar_volume):\n",
    "    moles = volume / molar_volume\n",
    "    return moles\n",
    "\n",
    "molar_volume = 46.01 * (0.01 ** 3) # cm3/mol\n",
    "\n",
    "vol = total_volume(pf_data, \"Anhydrite_VF\")\n",
    "moles = volume_to_moles(vol, molar_volume)\n",
    "print(moles / time *65000e3 /100 /1e12)\n",
    "#s_moles_to_flux(moles) / 100"
   ]
  },
  {
   "cell_type": "code",
   "execution_count": null,
   "metadata": {},
   "outputs": [],
   "source": []
  }
 ],
 "metadata": {
  "kernelspec": {
   "display_name": "topepan",
   "language": "python",
   "name": "python3"
  },
  "language_info": {
   "codemirror_mode": {
    "name": "ipython",
    "version": 3
   },
   "file_extension": ".py",
   "mimetype": "text/x-python",
   "name": "python",
   "nbconvert_exporter": "python",
   "pygments_lexer": "ipython3",
   "version": "3.11.0"
  }
 },
 "nbformat": 4,
 "nbformat_minor": 2
}
