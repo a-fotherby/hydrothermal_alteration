{
 "cells": [
  {
   "cell_type": "markdown",
   "source": [
    "# Plot Ca++ pore-fluid profile with shaded anhydrite region"
   ],
   "metadata": {
    "collapsed": false
   }
  },
  {
   "cell_type": "code",
   "execution_count": 12,
   "outputs": [],
   "source": [
    "%load_ext autoreload\n",
    "%autoreload 2\n",
    "%matplotlib notebook\n",
    "%run figures.py 'hta_2deg.nc' -c totcon"
   ],
   "metadata": {
    "collapsed": false
   }
  },
  {
   "cell_type": "code",
   "execution_count": 20,
   "outputs": [],
   "source": [
    "%matplotlib notebook\n",
    "\n",
    "import matplotlib as mpl\n",
    "from matplotlib import pyplot as plt\n",
    "from cmcrameri import cm\n",
    "import numpy as np\n",
    "mpl.rcParams.update(mpl.rcParamsDefault)\n",
    "\n",
    "mpl.rcParams['axes.linewidth'] = 3\n",
    "mpl.style.use('seaborn-poster')\n",
    "\n",
    "time_steps = 25\n",
    "i = 0\n",
    "fontsize = 24\n",
    "\n",
    "fig, axes = plt.subplots(1,1, figsize=(7,10))\n",
    "\n",
    "category = 'totcon'\n",
    "plot_var = 'Ca++'\n",
    "\n",
    "log10 = 0\n",
    "\n",
    "time = 21\n",
    "\n",
    "\n",
    "j=0\n",
    "\n",
    "#Prep fig before plotting\n",
    "axes.xaxis.tick_top()\n",
    "axes.xaxis.set_label_position('top')\n",
    "axes.grid(False)\n",
    "axes.tick_params(length=8, width=4)\n",
    "if category == 'totcon':\n",
    "    axes.set_xlabel(f'[Ca++] / mM', fontweight='bold')\n",
    "axes.set_ylabel('Depth / m', fontweight='bold')\n",
    "#axes.set_ylim(150,700)\n",
    "#axis.set_xlim(0,175)\n",
    "for tick in axes.xaxis.get_major_ticks():\n",
    "    tick.label2.set_fontweight('bold')\n",
    "for tick in axes.yaxis.get_major_ticks():\n",
    "    tick.label1.set_fontweight('bold')\n",
    "axes.invert_yaxis()\n",
    "\n",
    "\n",
    "# Line set loop (i.e. groups of lines sharing a property)\n",
    "# Line instance loop\n",
    "\n",
    "plot_indxs = [0,1,2,3,4,5]\n",
    "\n",
    "for i in plot_indxs:\n",
    "    if not log10:\n",
    "        try:\n",
    "            x = data[category].isel(file_num=4, time=time, Y=0, Z=0)[plot_var].values\n",
    "            y = data[category].isel(file_num=4, Y=0, Z=0).isel(time=time)['X'].values\n",
    "        except IndexError:\n",
    "            x=0\n",
    "            y=0\n",
    "    else:\n",
    "        try:\n",
    "            x = np.log10(set1[i].results[category].isel(time=time, Y=0, Z=0)[plot_var].values)\n",
    "            y = set1[i].results[category].isel(Y=0, Z=0, time=time)['X'].values\n",
    "        except:\n",
    "            x=np.NaN\n",
    "            y=np.NaN\n",
    "\n",
    "    axes.plot(x*1000, y, c='g', label=f'{(i+1)*10} mM')\n",
    "    axes.set_xlim(-0.0005, 30)\n",
    "    axes.fill_between((-10, 30), (600, 600), y2=(980, 980), color='y', alpha=0.01, hatch='xx', label='Anhydrite region')\n",
    "\n",
    "fig.tight_layout()\n",
    "\n",
    "fig.savefig('output/ca_profile.png', dpi=300)\n",
    "fig.show()"
   ],
   "metadata": {
    "collapsed": false
   }
  },
  {
   "cell_type": "code",
   "execution_count": 10,
   "outputs": [],
   "source": [],
   "metadata": {
    "collapsed": false
   }
  },
  {
   "cell_type": "code",
   "execution_count": null,
   "outputs": [],
   "source": [],
   "metadata": {
    "collapsed": false
   }
  }
 ],
 "metadata": {
  "kernelspec": {
   "display_name": "Python 3",
   "language": "python",
   "name": "python3"
  },
  "language_info": {
   "codemirror_mode": {
    "name": "ipython",
    "version": 2
   },
   "file_extension": ".py",
   "mimetype": "text/x-python",
   "name": "python",
   "nbconvert_exporter": "python",
   "pygments_lexer": "ipython2",
   "version": "2.7.6"
  }
 },
 "nbformat": 4,
 "nbformat_minor": 0
}
