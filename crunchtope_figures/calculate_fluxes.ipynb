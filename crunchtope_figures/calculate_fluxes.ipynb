{
 "cells": [
  {
   "cell_type": "markdown",
   "source": [
    "# Calculate fluxes of major ions into crust"
   ],
   "metadata": {
    "collapsed": false
   }
  },
  {
   "cell_type": "code",
   "execution_count": 2,
   "outputs": [
    {
     "name": "stdout",
     "output_type": "stream",
     "text": [
      "Returned 24 files without errors out of a total possible 24.\n",
      "0 files had errors.\n",
      "0 files had unhandled errors.\n",
      "File failure rate: 0.0 %.\n",
      "To see unhandled errors, run with verbose=True.\n"
     ]
    }
   ],
   "source": [
    "%load_ext autoreload\n",
    "%autoreload 2\n",
    "%matplotlib notebook\n",
    "%run figures.py"
   ],
   "metadata": {
    "collapsed": false,
    "ExecuteTime": {
     "end_time": "2023-05-11T10:53:44.199487Z",
     "start_time": "2023-05-11T10:53:33.376439Z"
    }
   }
  },
  {
   "cell_type": "code",
   "execution_count": 4,
   "outputs": [],
   "source": [
    "import numpy as np\n",
    "\n",
    "time_steps = 25\n",
    "i = 0\n",
    "file_num=0\n",
    "time = 20\n",
    "burn_end_t = 3\n",
    "\n",
    "category = 'volume'\n",
    "plot_var = 'Calcite'\n",
    "\n",
    "scale_factors = (1,1,1,1)\n",
    "range_sets = [(0,5), (6,9), (10,14), (15,19)]\n",
    "\n",
    "dataset = set1\n",
    "\n",
    "#Cell vol /cm^3\n",
    "cell_vol = 200 * 100**2\n",
    "#Calcite molar volume cm^3/mol\n",
    "anhyd_mv = 46.010\n",
    "calcite_mv = 36.934\n",
    "vf_to_mols = cell_vol / anhyd_mv\n",
    "vf_to_mols_calc = cell_vol / calcite_mv\n",
    "scale= vf_to_mols_calc\n",
    "\n",
    "iterables = zip(np.arange(len(range_sets)), range_sets)\n",
    "# Axis level loop\n",
    "calc_list = ['File Number', 'Net moles', 'Net moles after warmup', 'Percentage moles after warmup', 'Flux']\n",
    "calc_dict = {calc: [] for calc in calc_list}\n",
    "for j, range_set in enumerate(range_sets):\n",
    "    index = np.arange(range_set[0], range_set[1]+1)\n",
    "\n",
    "    for ind in index:\n",
    "        try:\n",
    "            result = dataset[ind].results[category]\n",
    "            burn_end = result.isel(time=burn_end_t, Y=0, Z=0)[plot_var].sum(dim='X').to_numpy() * scale\n",
    "            val = result.isel(time=time, Y=0, Z=0)[plot_var].sum(dim='X').to_numpy() * scale\n",
    "            net = val - burn_end\n",
    "            percentage_after_burn = net / val\n",
    "            duration = (result.time[time] - result.time[burn_end_t]).to_numpy()\n",
    "            flux = net / duration\n",
    "\n",
    "            calc_results = [ind, val, net, percentage_after_burn, flux]\n",
    "\n",
    "            for calc, calc_result in zip(calc_list, calc_results):\n",
    "                calc_dict[calc].append(calc_result)\n",
    "        except IndexError:\n",
    "            calc_results = [ind, np.NaN, np.NaN, np.NaN, np.NaN]\n",
    "            for calc, calc_result in zip(calc_list, calc_results):\n",
    "                calc_dict[calc].append(calc_result)\n"
   ],
   "metadata": {
    "collapsed": false,
    "ExecuteTime": {
     "end_time": "2023-05-11T10:54:13.456411Z",
     "start_time": "2023-05-11T10:54:13.376374Z"
    }
   }
  },
  {
   "cell_type": "code",
   "execution_count": 73,
   "outputs": [],
   "source": [
    "import pandas as pd\n",
    "df = pd.DataFrame.from_dict(calc_dict)\n",
    "df = df.set_index('File Number')\n",
    "df.to_csv('output/flux_data.csv')"
   ],
   "metadata": {
    "collapsed": false
   }
  },
  {
   "cell_type": "code",
   "execution_count": null,
   "outputs": [],
   "source": [],
   "metadata": {
    "collapsed": false
   }
  }
 ],
 "metadata": {
  "kernelspec": {
   "display_name": "Python 3",
   "language": "python",
   "name": "python3"
  },
  "language_info": {
   "codemirror_mode": {
    "name": "ipython",
    "version": 2
   },
   "file_extension": ".py",
   "mimetype": "text/x-python",
   "name": "python",
   "nbconvert_exporter": "python",
   "pygments_lexer": "ipython2",
   "version": "2.7.6"
  }
 },
 "nbformat": 4,
 "nbformat_minor": 0
}
