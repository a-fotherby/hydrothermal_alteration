{
 "cells": [
  {
   "cell_type": "markdown",
   "source": [
    "# Cross-plot of modelled versus literature pore fluid component values"
   ],
   "metadata": {
    "collapsed": false
   }
  },
  {
   "cell_type": "code",
   "execution_count": null,
   "outputs": [],
   "source": [
    "%load_ext autoreload\n",
    "%autoreload 2\n",
    "%matplotlib notebook\n",
    "%run figures.py"
   ],
   "metadata": {
    "collapsed": false,
    "is_executing": true
   }
  },
  {
   "cell_type": "code",
   "execution_count": null,
   "outputs": [],
   "source": [
    "species = ['H+', 'Al+++', 'Mg++',  'Ca++', 'HCO3-', 'Cl-',  'K+',    'Na+',   'SO4--', 'H4SiO4(aq)']\n",
    "lit_vals = [6.31e-5, 4.1e-6,  1.0e-12, 40e-3,  2.0e-8, 2.0e-3,  6.0e-1, 2.67e-2, 1e-6, 2.02e-2]\n",
    "\n",
    "oneone = [10**(-i) for i in range(13)]"
   ],
   "metadata": {
    "collapsed": false,
    "is_executing": true
   }
  },
  {
   "cell_type": "code",
   "execution_count": null,
   "outputs": [],
   "source": [
    "model_vals_dict = set1[4].results['totcon'][species].isel(X=-1, time=22).to_dict()"
   ],
   "metadata": {
    "collapsed": false,
    "is_executing": true
   }
  },
  {
   "cell_type": "code",
   "execution_count": null,
   "outputs": [],
   "source": [
    "model_vals = []\n",
    "\n",
    "# Get ordered species data\n",
    "for specie in species[1:]:\n",
    "    model_vals.append(model_vals_dict['data_vars'][specie]['data'][0][0])\n",
    "\n",
    "# Prepend H+\n",
    "h = set1[0].results['pH']['pH'].isel(X=-1, time=-1).to_numpy()[0][0]\n",
    "model_vals.insert(0, (10**-h))\n",
    "model_vals"
   ],
   "metadata": {
    "collapsed": false,
    "is_executing": true
   }
  },
  {
   "cell_type": "code",
   "execution_count": null,
   "outputs": [],
   "source": [
    "import plotly.io as pio\n",
    "import plotly.express as px\n",
    "from plotly import graph_objects as go\n",
    "\n",
    "# figure style template\n",
    "template = pio.templates['simple_white']\n",
    "\n",
    "# Figure size\n",
    "template.layout.autosize=False\n",
    "template.layout.height=1000\n",
    "template.layout.width=1000\n",
    "\n",
    "# Axis\n",
    "template.layout.xaxis.tickwidth=3\n",
    "template.layout.xaxis.linewidth=3\n",
    "template.layout.yaxis.tickwidth=3\n",
    "template.layout.yaxis.linewidth=3\n",
    "template.layout.xaxis.title.font.size=24\n",
    "template.layout.yaxis.title.font.size=24\n",
    "template.layout.xaxis.tickfont.size=18\n",
    "template.layout.yaxis.tickfont.size=18\n",
    "\n",
    "# Legend\n",
    "template.layout.legend.font.size=18\n",
    "template.layout.legend.title.font.size=20\n",
    "\n",
    "template.data.scatter = [go.Scatter(marker=dict(symbol=\"cross-thin-open\",\n",
    "                                                size=10,\n",
    "                                                line_width=3),\n",
    "                                    textfont=dict(size=18),\n",
    "                                    line=dict(width=3))]\n"
   ],
   "metadata": {
    "collapsed": false,
    "is_executing": true
   }
  },
  {
   "cell_type": "code",
   "execution_count": null,
   "outputs": [],
   "source": [
    "\n",
    "fig = go.Figure()\n",
    "fma_scatter = go.Scatter(x=model_vals, y=lit_vals, mode='markers+text', text=species, textposition='top left', name='25000 yrs')\n",
    "#oma_scatter = go.Scatter(x=one_myr_vals, y=lit_vals, mode='markers', text=species, textposition='top left', name='1 Myr')\n",
    "line = go.Scatter(x=oneone, y=oneone, mode='lines', showlegend=False)\n",
    "fig.add_trace(fma_scatter)\n",
    "#fig.add_trace(oma_scatter)\n",
    "fig.add_trace(line)\n",
    "fig.update_xaxes(title='Modelled concentrations / M', type=\"log\")\n",
    "fig.update_yaxes(title='Literature concentrations / M', type=\"log\")\n",
    "fig.update_layout(\n",
    "    template=template,\n",
    "    legend=dict(title=\"Time\"))\n",
    "\n",
    "fig.show()\n",
    "fig.write_image('output/comp_crossplot.png')"
   ],
   "metadata": {
    "collapsed": false,
    "is_executing": true
   }
  },
  {
   "cell_type": "code",
   "execution_count": null,
   "outputs": [],
   "source": [],
   "metadata": {
    "collapsed": false
   }
  }
 ],
 "metadata": {
  "language_info": {
   "codemirror_mode": {
    "name": "ipython",
    "version": 2
   },
   "file_extension": ".py",
   "mimetype": "text/x-python",
   "name": "python",
   "nbconvert_exporter": "python",
   "pygments_lexer": "ipython2",
   "version": "2.7.6"
  },
  "kernelspec": {
   "name": "python3",
   "language": "python",
   "display_name": "Python 3 (ipykernel)"
  }
 },
 "nbformat": 4,
 "nbformat_minor": 0
}
