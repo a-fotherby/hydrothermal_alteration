{
 "cells": [
  {
   "cell_type": "markdown",
   "source": [
    "# Plot clay amounts against major ions"
   ],
   "metadata": {
    "collapsed": false
   }
  },
  {
   "cell_type": "code",
   "execution_count": 6,
   "outputs": [
    {
     "name": "stdout",
     "output_type": "stream",
     "text": [
      "The autoreload extension is already loaded. To reload it, use:\n",
      "  %reload_ext autoreload\n"
     ]
    }
   ],
   "source": [
    "%load_ext autoreload\n",
    "%autoreload 2\n",
    "%matplotlib notebook\n",
    "%run figures.py 'hta_2deg.nc' -c volume\n"
   ],
   "metadata": {
    "collapsed": false,
    "ExecuteTime": {
     "end_time": "2023-07-07T15:12:27.948290Z",
     "start_time": "2023-07-07T15:12:27.566216Z"
    }
   }
  },
  {
   "cell_type": "code",
   "execution_count": 8,
   "outputs": [],
   "source": [
    "import matplotlib as mpl\n",
    "from matplotlib import pyplot as plt\n",
    "from cmcrameri import cm\n",
    "import numpy as np\n",
    "import copy\n",
    "import string\n",
    "\n",
    "file_num=0\n",
    "fontsize = 24\n",
    "time = 21\n",
    "\n",
    "fig, axis = plt.subplots(1,1, figsize=(10,9))\n",
    "\n",
    "category = 'volume'\n",
    "plot_vars = ['Clays']\n",
    "\n",
    "range_sets = [(0,5), (6,9), (10,14)]\n",
    "labels = [[10, 20, 30, 40, 50, 60],\n",
    "          [10, 20, 30, 40],\n",
    "          [1, 10, 20, 30, 40]]\n",
    "\n",
    "cols = ['tab:blue', 'tab:orange']\n",
    "\n",
    "linestyles = ['-', '--']\n",
    "x_label = 'Concentration / mM'\n",
    "y_label = 'Clay minerals / mols'\n",
    "\n",
    "names = ['[Mg$\\mathbf{^{2+}}$]', '[Ca$\\mathbf{^{2+}}$]', '[SO$\\mathbf{_4^{2-}}$]']\n",
    "\n",
    "legend_titles=[1,2,3,4]\n",
    "\n",
    "#Cell vol /cm^3\n",
    "cell_vol = 200 * 100**2\n",
    "#Calcite molar volume cm^3/mol\n",
    "anhyd_mv = 46.010\n",
    "vf_to_mols = cell_vol / anhyd_mv\n",
    "\n",
    "clay_mv = (229.634 + 211.470 + 215.880) / 3  # cm^3/mol ignoring Celadonite as it doesn't precip\n",
    "amph_mv = (274.660 + 272.920) / 2 # cm^3/mol\n",
    "\n",
    "scale_factors = {'Clays': cell_vol / clay_mv, 'amph': cell_vol/amph_mv}\n",
    "\n",
    "base_case_index = [4, 0]\n",
    "\n",
    "plots.format_axis(axis, font_props)\n",
    "\n",
    "axis.set_ylabel(y_label, fontweight='bold', fontsize=fontsize)\n",
    "axis.set_xlabel(x_label, fontweight='bold', fontsize=fontsize)\n",
    "\n",
    "linestyles = {'Clays': '-', 'amph': '--'}\n",
    "\n",
    "for i, plot_var in enumerate(plot_vars):\n",
    "    if plot_var == 'amph':\n",
    "        names = ['_nolegend_', '_nolegend_']\n",
    "    iterables = zip(np.arange(len(range_sets)), legend_titles, scale_factors, range_sets, labels, names, cols)\n",
    "    # Axis level loop\n",
    "    for j, legend_title, scale, range_set, label_a, name, col in iterables:\n",
    "        # Line set loop (i.e. groups of lines sharing a property)\n",
    "        # Line instance loop\n",
    "        index = np.arange(range_set[0], range_set[1]+1)\n",
    "        y = []\n",
    "        x = copy.deepcopy(label_a)\n",
    "        pop_list = []\n",
    "\n",
    "        for n, ind in enumerate(index):\n",
    "            try:\n",
    "                val = data[category].isel(file_num = ind, time=time, Y=0, Z=0)[plot_var].sum(dim=['X']).to_numpy() * scale_factors[plot_var]\n",
    "                y.append(val)\n",
    "            except:\n",
    "                pop_list.append(n)\n",
    "                continue\n",
    "\n",
    "        pop_list.sort(reverse=True)\n",
    "        for q in pop_list:\n",
    "            x.pop(q)\n",
    "        degree_sym = '$\\mathbf{\\degree}$'\n",
    "        axis.plot(x, y, label= f'{name}', linestyle=linestyles[plot_var], c=col, linewidth=4)\n",
    "    axis.legend(title='Seawater component', prop=font_props, title_fontproperties=font_props, framealpha=0, loc='best')\n",
    "\n",
    "styles = ['-', '--']\n",
    "\n",
    "fig.tight_layout()\n",
    "\n",
    "fig.savefig('output/clay_v_cats.png', dpi=300)\n",
    "fig.show()"
   ],
   "metadata": {
    "collapsed": false
   }
  },
  {
   "cell_type": "code",
   "execution_count": 7,
   "outputs": [],
   "source": [],
   "metadata": {
    "collapsed": false,
    "ExecuteTime": {
     "end_time": "2023-07-07T15:12:28.381832Z",
     "start_time": "2023-07-07T15:12:28.380407Z"
    }
   }
  }
 ],
 "metadata": {
  "kernelspec": {
   "name": "python3",
   "language": "python",
   "display_name": "Python 3 (ipykernel)"
  },
  "language_info": {
   "codemirror_mode": {
    "name": "ipython",
    "version": 2
   },
   "file_extension": ".py",
   "mimetype": "text/x-python",
   "name": "python",
   "nbconvert_exporter": "python",
   "pygments_lexer": "ipython2",
   "version": "2.7.6"
  }
 },
 "nbformat": 4,
 "nbformat_minor": 0
}
