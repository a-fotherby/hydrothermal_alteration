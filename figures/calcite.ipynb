{
 "cells": [
  {
   "cell_type": "markdown",
   "source": [
    "# Plot calcite volume by experiment"
   ],
   "metadata": {
    "collapsed": false
   }
  },
  {
   "cell_type": "code",
   "source": [
    "%load_ext autoreload\n",
    "%autoreload 2\n",
    "%matplotlib notebook\n",
    "%run figures.py\n"
   ],
   "metadata": {
    "collapsed": false,
    "ExecuteTime": {
     "end_time": "2024-05-10T12:39:27.311115Z",
     "start_time": "2024-05-10T12:39:26.972992Z"
    }
   },
   "outputs": [
    {
     "name": "stderr",
     "output_type": "stream",
     "text": [
      "usage: figures.py [-h] [-c CATEGORIES [CATEGORIES ...]] file_name\n",
      "figures.py: error: the following arguments are required: file_name\n"
     ]
    },
    {
     "ename": "SystemExit",
     "evalue": "2",
     "output_type": "error",
     "traceback": [
      "An exception has occurred, use %tb to see the full traceback.\n",
      "\u001B[0;31mSystemExit\u001B[0m\u001B[0;31m:\u001B[0m 2\n"
     ]
    }
   ],
   "execution_count": 1
  },
  {
   "cell_type": "code",
   "source": [
    "%matplotlib notebook\n",
    "\n",
    "import matplotlib as mpl\n",
    "from matplotlib import pyplot as plt\n",
    "from cmcrameri import cm\n",
    "import numpy as np\n",
    "import string\n",
    "mpl.rcParams.update(mpl.rcParamsDefault)\n",
    "\n",
    "mpl.rcParams['axes.linewidth'] = 3\n",
    "mpl.style.use('seaborn-poster')\n",
    "\n",
    "time_steps = 25\n",
    "i = 0\n",
    "file_num=0\n",
    "fontsize = 24\n",
    "\n",
    "fig, axes = plt.subplots(1,4, figsize=(20,11))\n",
    "plot_vars = ['Calcite'] * 4\n",
    "\n",
    "time = 22\n",
    "\n",
    "#Cell vol /cm^3\n",
    "cell_vol = 200 * 100**2\n",
    "#Calcite molar volume cm^3/mol\n",
    "calcite_mv = 36.934\n",
    "#Calcite molar mass g/mol\n",
    "cal_mm = 100.087\n",
    "# Calcite density\n",
    "c_den = cal_mm / calcite_mv\n",
    "#vf_to_mass = cell_vol / calcite_mv * cal_mm\n",
    "vf_to_mass = cell_vol * c_den / 1000\n",
    "vf_to_moles = cell_vol / calcite_mv\n",
    "scale_factors = (vf_to_mass, vf_to_mass, vf_to_mass, vf_to_mass)\n",
    "scale_factors = (vf_to_moles, vf_to_moles, vf_to_moles, vf_to_moles)\n",
    "scale_factors = (1,1,1,1)\n",
    "\n",
    "#range_sets = [(1,6), (7,10), (11,15), (16,20)]\n",
    "# Temporarily change range set to account for missing file at start.\n",
    "range_sets = [(1,6), (7,10), (11,15), (16,20)]\n",
    "labels = [[10, 20, 30, 40, 50, 60],\n",
    "          [10, 20, 30, 40],\n",
    "          [1, 10, 20, 30, 40],\n",
    "          [2.0, 2.2, 2.4, 2.6, 2.8]]\n",
    "\n",
    "linestyles = ['-', '--']\n",
    "legend_titles = ['[Mg$\\mathbf{^{2+}}$] / mM', '[Ca$\\mathbf{^{2+}}$] / mM', '[SO$\\mathbf{_4}}$] / mM', '[HCO$\\mathbf{_3}^-$] / mM']\n",
    "\n",
    "x_lims= [(0,10), (0,6), (0,6), (0,6)]\n",
    "cols = ['r', 'b', 'g', 'm', 'k', 'c']\n",
    "temperatures = [15, 2]\n",
    "\n",
    "iterables = zip(plot_vars, axes, legend_titles, scale_factors, range_sets, labels)\n",
    "\n",
    "save_points = [0, 1, 2, 3, 5, 7, 9, 11, 19, 29, 30, 31, 32, 33, 34, 35, 36, 37, 38, 39, 40]\n",
    "\n",
    "j=0\n",
    "\n",
    "#Prep fig before plotting\n",
    "for axis, x_lim in zip(axes, x_lims):\n",
    "    axis.xaxis.tick_top()\n",
    "    axis.xaxis.set_label_position('top')\n",
    "    axis.grid(False)\n",
    "    axis.tick_params(length=8, width=4)\n",
    "    axis.set_xlabel(f'{plot_vars[0]} / volume fraction', fontweight='bold')\n",
    "    axis.set_ylabel('Depth / m', fontweight='bold')\n",
    "    #axis.set_ylim(0,200)\n",
    "    #axis.set_xlim(0,45)\n",
    "    for tick in axis.xaxis.get_major_ticks():\n",
    "        tick.label2.set_fontweight('bold')\n",
    "    for tick in axis.yaxis.get_major_ticks():\n",
    "        tick.label1.set_fontweight('bold')\n",
    "    axis.invert_yaxis()\n",
    "\n",
    "for dataset, ls, temperature in zip(datasets, linestyles, temperatures):\n",
    "\n",
    "    iterables = zip(range(len(plot_vars)), plot_vars, axes, legend_titles, scale_factors, range_sets, labels)\n",
    "    # Axis level loop\n",
    "    for j, plot_var, axis, legend_title, scale, range_set, label_a in iterables:\n",
    "        axis.text(-0.25, 1.05, '({})'.format(string.ascii_uppercase[j]), transform=axis.transAxes, size=20, weight='bold')\n",
    "        # Line set loop (i.e. groups of lines sharing a property)\n",
    "        # Line instance loop\n",
    "        index = np.arange(range_set[0]-1, range_set[1])\n",
    "        for ind, label, c in zip(index, label_a, cols):\n",
    "            if i == ind:\n",
    "               axis.set_prop_cycle(None)\n",
    "            try:\n",
    "                pre_burn = dataset[ind].results['volume'].isel(time=12, Y=0, Z=0)[plot_var].values * scale\n",
    "                x = dataset[ind].results['volume'].isel(time=time, Y=0, Z=0)[plot_var].values * scale\n",
    "                x -= pre_burn\n",
    "                y = dataset[ind].results['volume'].isel(time=time, Y=0, Z=0)['X'].values\n",
    "            except IndexError:\n",
    "                x=0\n",
    "                y=0\n",
    "            axis.plot(x, y, label=f'{label}, T={temperature}C', linestyle=ls, c=c)\n",
    "            axis.legend(title=legend_title, prop={'weight': 'bold', 'size': 15}, title_fontproperties={'weight': 'bold', 'size': 15}, framealpha=0, loc=4)\n",
    "\n",
    "fig.tight_layout()\n",
    "\n",
    "fig.savefig(f'output/{plot_var}_depth_by_exp.png', dpi=150)\n",
    "fig.show()"
   ],
   "metadata": {
    "collapsed": false,
    "ExecuteTime": {
     "end_time": "2024-05-10T12:39:27.464970Z",
     "start_time": "2024-05-10T12:39:27.312131Z"
    }
   },
   "outputs": [
    {
     "name": "stderr",
     "output_type": "stream",
     "text": [
      "/var/folders/86/d5n0l2wj5yn0p84q_4jzm_6r0000gn/T/ipykernel_46543/637392529.py:11: MatplotlibDeprecationWarning: The seaborn styles shipped by Matplotlib are deprecated since 3.6, as they no longer correspond to the styles shipped by seaborn. However, they will remain available as 'seaborn-v0_8-<style>'. Alternatively, directly use the seaborn API instead.\n",
      "  mpl.style.use('seaborn-poster')\n"
     ]
    },
    {
     "ename": "NameError",
     "evalue": "name 'datasets' is not defined",
     "output_type": "error",
     "traceback": [
      "\u001B[0;31m---------------------------------------------------------------------------\u001B[0m",
      "\u001B[0;31mNameError\u001B[0m                                 Traceback (most recent call last)",
      "Cell \u001B[0;32mIn[2], line 75\u001B[0m\n\u001B[1;32m     72\u001B[0m         tick\u001B[38;5;241m.\u001B[39mlabel1\u001B[38;5;241m.\u001B[39mset_fontweight(\u001B[38;5;124m'\u001B[39m\u001B[38;5;124mbold\u001B[39m\u001B[38;5;124m'\u001B[39m)\n\u001B[1;32m     73\u001B[0m     axis\u001B[38;5;241m.\u001B[39minvert_yaxis()\n\u001B[0;32m---> 75\u001B[0m \u001B[38;5;28;01mfor\u001B[39;00m dataset, ls, temperature \u001B[38;5;129;01min\u001B[39;00m \u001B[38;5;28mzip\u001B[39m(\u001B[43mdatasets\u001B[49m, linestyles, temperatures):\n\u001B[1;32m     77\u001B[0m     iterables \u001B[38;5;241m=\u001B[39m \u001B[38;5;28mzip\u001B[39m(\u001B[38;5;28mrange\u001B[39m(\u001B[38;5;28mlen\u001B[39m(plot_vars)), plot_vars, axes, legend_titles, scale_factors, range_sets, labels)\n\u001B[1;32m     78\u001B[0m     \u001B[38;5;66;03m# Axis level loop\u001B[39;00m\n",
      "\u001B[0;31mNameError\u001B[0m: name 'datasets' is not defined"
     ]
    }
   ],
   "execution_count": 2
  },
  {
   "cell_type": "code",
   "execution_count": null,
   "outputs": [],
   "source": [],
   "metadata": {
    "collapsed": false
   }
  }
 ],
 "metadata": {
  "language_info": {
   "codemirror_mode": {
    "name": "ipython",
    "version": 2
   },
   "file_extension": ".py",
   "mimetype": "text/x-python",
   "name": "python",
   "nbconvert_exporter": "python",
   "pygments_lexer": "ipython2",
   "version": "2.7.6"
  },
  "kernelspec": {
   "name": "python3",
   "language": "python",
   "display_name": "Python 3 (ipykernel)"
  }
 },
 "nbformat": 4,
 "nbformat_minor": 0
}
