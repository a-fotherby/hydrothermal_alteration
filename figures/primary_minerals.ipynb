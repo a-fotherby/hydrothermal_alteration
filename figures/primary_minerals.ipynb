{
 "cells": [
  {
   "cell_type": "markdown",
   "source": [
    "# Plot primary mineral alteration"
   ],
   "metadata": {
    "collapsed": false
   }
  },
  {
   "cell_type": "code",
   "execution_count": 1,
   "outputs": [
    {
     "name": "stderr",
     "output_type": "stream",
     "text": [
      "usage: figures.py [-h] [-c CATEGORIES [CATEGORIES ...]] file_name\n",
      "figures.py: error: the following arguments are required: file_name\n"
     ]
    },
    {
     "ename": "SystemExit",
     "evalue": "2",
     "output_type": "error",
     "traceback": [
      "An exception has occurred, use %tb to see the full traceback.\n",
      "\u001B[0;31mSystemExit\u001B[0m\u001B[0;31m:\u001B[0m 2\n"
     ]
    }
   ],
   "source": [
    "%load_ext autoreload\n",
    "%autoreload 2\n",
    "%matplotlib notebook\n",
    "%run figures.py -c volume"
   ],
   "metadata": {
    "collapsed": false,
    "ExecuteTime": {
     "end_time": "2024-01-17T13:02:49.195686Z",
     "start_time": "2024-01-17T13:02:48.912261Z"
    }
   }
  },
  {
   "cell_type": "code",
   "execution_count": 2,
   "outputs": [
    {
     "ename": "ModuleNotFoundError",
     "evalue": "No module named 'omphalos'",
     "output_type": "error",
     "traceback": [
      "\u001B[0;31m---------------------------------------------------------------------------\u001B[0m",
      "\u001B[0;31mModuleNotFoundError\u001B[0m                       Traceback (most recent call last)",
      "Cell \u001B[0;32mIn[2], line 8\u001B[0m\n\u001B[1;32m      5\u001B[0m \u001B[38;5;28;01mfrom\u001B[39;00m \u001B[38;5;21;01mcmcrameri\u001B[39;00m \u001B[38;5;28;01mimport\u001B[39;00m cm\n\u001B[1;32m      6\u001B[0m \u001B[38;5;28;01mimport\u001B[39;00m \u001B[38;5;21;01mnumpy\u001B[39;00m \u001B[38;5;28;01mas\u001B[39;00m \u001B[38;5;21;01mnp\u001B[39;00m\n\u001B[0;32m----> 8\u001B[0m \u001B[38;5;28;01mfrom\u001B[39;00m \u001B[38;5;21;01momphalos\u001B[39;00m\u001B[38;5;21;01m.\u001B[39;00m\u001B[38;5;21;01mcoeus\u001B[39;00m \u001B[38;5;28;01mimport\u001B[39;00m plots\n\u001B[1;32m      9\u001B[0m mpl\u001B[38;5;241m.\u001B[39mrcParams\u001B[38;5;241m.\u001B[39mupdate(mpl\u001B[38;5;241m.\u001B[39mrcParamsDefault)\n\u001B[1;32m     11\u001B[0m mpl\u001B[38;5;241m.\u001B[39mrcParams[\u001B[38;5;124m'\u001B[39m\u001B[38;5;124maxes.linewidth\u001B[39m\u001B[38;5;124m'\u001B[39m] \u001B[38;5;241m=\u001B[39m \u001B[38;5;241m3\u001B[39m\n",
      "\u001B[0;31mModuleNotFoundError\u001B[0m: No module named 'omphalos'"
     ]
    }
   ],
   "source": [
    "%matplotlib notebook\n",
    "\n",
    "import matplotlib as mpl\n",
    "from matplotlib import pyplot as plt\n",
    "from cmcrameri import cm\n",
    "import numpy as np\n",
    "\n",
    "from omphalos.coeus import plots\n",
    "mpl.rcParams.update(mpl.rcParamsDefault)\n",
    "\n",
    "mpl.rcParams['axes.linewidth'] = 3\n",
    "mpl.style.use('seaborn-poster')\n",
    "\n",
    "time_steps = 25\n",
    "i = 0\n",
    "fontsize = 24\n",
    "\n",
    "fig, axis = plt.subplots(1,1, figsize=(7,15))\n",
    "\n",
    "plot_vars = ['Basalt']\n",
    "categories= ['volume'] * len(plot_vars)\n",
    "\n",
    "labels = {'Basalt': 'Basalt'}\n",
    "\n",
    "log10 = 0\n",
    "\n",
    "time = 20\n",
    "\n",
    "\n",
    "j=0\n",
    "\n",
    "#Prep fig before plotting\n",
    "plots.format_axis(axis, 'volume', 'Basalt Vol. Frac.', font_props)\n",
    "\n",
    "# Line set loop (i.e. groups of lines sharing a property)\n",
    "# Line instance loop\n",
    "\n",
    "plot_indxs = [0,1,2,3,4,5]\n",
    "i = 4 # Base case\n",
    "for category, plot_var in zip(categories, plot_vars):\n",
    "    try:\n",
    "        x = set1[i].results[category].isel(time=time, Y=0, Z=0)[plot_var].values\n",
    "        y = set1[i].results[category].isel(Y=0, Z=0).isel(time=time)['X'].values\n",
    "    except IndexError:\n",
    "        x=0\n",
    "        y=0\n",
    "\n",
    "    axis.plot(x, y, label=f'{labels[plot_var]}')\n",
    "    axis.legend()\n",
    "\n",
    "fig.tight_layout()\n",
    "\n",
    "\n",
    "fig.savefig(f'output/primary_minerals.png', dpi=300)\n",
    "fig.show()"
   ],
   "metadata": {
    "collapsed": false,
    "ExecuteTime": {
     "end_time": "2024-01-17T13:02:49.302617Z",
     "start_time": "2024-01-17T13:02:49.198494Z"
    }
   }
  },
  {
   "cell_type": "code",
   "execution_count": null,
   "outputs": [],
   "source": [],
   "metadata": {
    "collapsed": false
   }
  }
 ],
 "metadata": {
  "kernelspec": {
   "display_name": "Python 3",
   "language": "python",
   "name": "python3"
  },
  "language_info": {
   "codemirror_mode": {
    "name": "ipython",
    "version": 2
   },
   "file_extension": ".py",
   "mimetype": "text/x-python",
   "name": "python",
   "nbconvert_exporter": "python",
   "pygments_lexer": "ipython2",
   "version": "2.7.6"
  }
 },
 "nbformat": 4,
 "nbformat_minor": 0
}
