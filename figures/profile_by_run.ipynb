{
 "cells": [
  {
   "cell_type": "markdown",
   "source": [
    "# Plot a quantity by experiment"
   ],
   "metadata": {
    "collapsed": false
   }
  },
  {
   "cell_type": "code",
   "execution_count": 1,
   "outputs": [],
   "source": [
    "%load_ext autoreload\n",
    "%autoreload 2\n",
    "%matplotlib notebook\n",
    "%run figures.py '17-01-24_hta_low_res.nc' -c volume\n"
   ],
   "metadata": {
    "collapsed": false,
    "ExecuteTime": {
     "end_time": "2024-01-17T13:03:08.782377Z",
     "start_time": "2024-01-17T13:03:07.950494Z"
    }
   }
  },
  {
   "cell_type": "code",
   "execution_count": 2,
   "outputs": [
    {
     "name": "stderr",
     "output_type": "stream",
     "text": [
      "/var/folders/86/d5n0l2wj5yn0p84q_4jzm_6r0000gn/T/ipykernel_85830/3754454696.py:10: MatplotlibDeprecationWarning: The seaborn styles shipped by Matplotlib are deprecated since 3.6, as they no longer correspond to the styles shipped by seaborn. However, they will remain available as 'seaborn-v0_8-<style>'. Alternatively, directly use the seaborn API instead.\n",
      "  mpl.style.use('seaborn-poster')\n"
     ]
    },
    {
     "ename": "NameError",
     "evalue": "name 'set1' is not defined",
     "output_type": "error",
     "traceback": [
      "\u001B[0;31m---------------------------------------------------------------------------\u001B[0m",
      "\u001B[0;31mNameError\u001B[0m                                 Traceback (most recent call last)",
      "Cell \u001B[0;32mIn[2], line 66\u001B[0m\n\u001B[1;32m     64\u001B[0m \u001B[38;5;28;01mif\u001B[39;00m \u001B[38;5;129;01mnot\u001B[39;00m log10:\n\u001B[1;32m     65\u001B[0m     \u001B[38;5;28;01mtry\u001B[39;00m:\n\u001B[0;32m---> 66\u001B[0m         x \u001B[38;5;241m=\u001B[39m \u001B[43mset1\u001B[49m[i]\u001B[38;5;241m.\u001B[39mresults[category]\u001B[38;5;241m.\u001B[39misel(time\u001B[38;5;241m=\u001B[39mtime, Y\u001B[38;5;241m=\u001B[39m\u001B[38;5;241m0\u001B[39m, Z\u001B[38;5;241m=\u001B[39m\u001B[38;5;241m0\u001B[39m)[plot_var]\u001B[38;5;241m.\u001B[39mvalues\n\u001B[1;32m     67\u001B[0m         y \u001B[38;5;241m=\u001B[39m set1[i]\u001B[38;5;241m.\u001B[39mresults[category]\u001B[38;5;241m.\u001B[39misel(Y\u001B[38;5;241m=\u001B[39m\u001B[38;5;241m0\u001B[39m, Z\u001B[38;5;241m=\u001B[39m\u001B[38;5;241m0\u001B[39m)\u001B[38;5;241m.\u001B[39misel(time\u001B[38;5;241m=\u001B[39mtime)[\u001B[38;5;124m'\u001B[39m\u001B[38;5;124mX\u001B[39m\u001B[38;5;124m'\u001B[39m]\u001B[38;5;241m.\u001B[39mvalues\n\u001B[1;32m     68\u001B[0m     \u001B[38;5;28;01mexcept\u001B[39;00m \u001B[38;5;167;01mIndexError\u001B[39;00m:\n",
      "\u001B[0;31mNameError\u001B[0m: name 'set1' is not defined"
     ]
    }
   ],
   "source": [
    "%matplotlib notebook\n",
    "\n",
    "import matplotlib as mpl\n",
    "from matplotlib import pyplot as plt\n",
    "from cmcrameri import cm\n",
    "import numpy as np\n",
    "mpl.rcParams.update(mpl.rcParamsDefault)\n",
    "\n",
    "mpl.rcParams['axes.linewidth'] = 3\n",
    "mpl.style.use('seaborn-poster')\n",
    "\n",
    "time_steps = 25\n",
    "i = 0\n",
    "fontsize = 24\n",
    "\n",
    "fig, axes = plt.subplots(1,1, figsize=(7,15))\n",
    "\n",
    "category = 'volume'\n",
    "plot_var = 'Fayalite'\n",
    "\n",
    "log10 = 0\n",
    "\n",
    "time = 20\n",
    "\n",
    "\n",
    "j=0\n",
    "\n",
    "#Prep fig before plotting\n",
    "axes.xaxis.tick_top()\n",
    "axes.xaxis.set_label_position('top')\n",
    "axes.grid(False)\n",
    "axes.tick_params(length=8, width=4)\n",
    "if category == 'totcon':\n",
    "    axes.set_xlabel(f'[{plot_var}] / M', fontweight='bold')\n",
    "elif category == 'saturation':\n",
    "    axes.set_xlabel(f'{plot_var} / $\\\\mathbf{{\\\\Omega}}$', fontweight='bold')\n",
    "    axes.plot(np.zeros(1000),np.arange(1000), ls='--')\n",
    "    axes.set_xscale('symlog', linthresh=1e-13)\n",
    "elif category == 'volume':\n",
    "    axes.set_xlabel(f'{plot_var} / volume frac.', fontweight='bold')\n",
    "elif category == 'pH':\n",
    "    axes.set_xlabel(f'{plot_var}', fontweight='bold')\n",
    "elif category == 'rate':\n",
    "    axes.set_xscale('symlog', linthresh=1e-13)\n",
    "else:\n",
    "    axes.set_xlabel(f'{plot_var} / UNITS NOT SPECD', fontweight='bold')\n",
    "axes.set_ylabel('Depth / m', fontweight='bold')\n",
    "#axes.set_ylim(150,700)\n",
    "#axis.set_xlim(0,175)\n",
    "for tick in axes.xaxis.get_major_ticks():\n",
    "    tick.label2.set_fontweight('bold')\n",
    "for tick in axes.yaxis.get_major_ticks():\n",
    "    tick.label1.set_fontweight('bold')\n",
    "axes.invert_yaxis()\n",
    "\n",
    "\n",
    "# Line set loop (i.e. groups of lines sharing a property)\n",
    "# Line instance loop\n",
    "\n",
    "plot_indxs = [0,1,2,3,4,5]\n",
    "plot_indxs = [10,11,12,13]\n",
    "\n",
    "for i in plot_indxs:\n",
    "    if not log10:\n",
    "        try:\n",
    "            x = set1[i].results[category].isel(time=time, Y=0, Z=0)[plot_var].values\n",
    "            y = set1[i].results[category].isel(Y=0, Z=0).isel(time=time)['X'].values\n",
    "        except IndexError:\n",
    "            x=0\n",
    "            y=0\n",
    "    else:\n",
    "        try:\n",
    "            x = np.log10(set1[i].results[category].isel(time=time, Y=0, Z=0)[plot_var].values)\n",
    "            y = set1[i].results[category].isel(Y=0, Z=0).isel(time=time)['X'].values\n",
    "        except:\n",
    "            x=np.NaN\n",
    "            y=np.NaN\n",
    "\n",
    "    axes.plot(x, y, c=cm.batlow(((i*10)-100)/40), label=f'{(i+1)*10} mM')\n",
    "    axes.legend()\n",
    "\n",
    "fig.tight_layout()\n",
    "\n",
    "fig.savefig(f'output/{category}_{plot_var}_profile.png', dpi=300)\n",
    "fig.show()"
   ],
   "metadata": {
    "collapsed": false,
    "ExecuteTime": {
     "end_time": "2024-01-17T13:03:09.874565Z",
     "start_time": "2024-01-17T13:03:09.342037Z"
    }
   }
  },
  {
   "cell_type": "code",
   "execution_count": null,
   "outputs": [],
   "source": [],
   "metadata": {
    "collapsed": false
   }
  }
 ],
 "metadata": {
  "kernelspec": {
   "display_name": "Python 3",
   "language": "python",
   "name": "python3"
  },
  "language_info": {
   "codemirror_mode": {
    "name": "ipython",
    "version": 2
   },
   "file_extension": ".py",
   "mimetype": "text/x-python",
   "name": "python",
   "nbconvert_exporter": "python",
   "pygments_lexer": "ipython2",
   "version": "2.7.6"
  }
 },
 "nbformat": 4,
 "nbformat_minor": 0
}
