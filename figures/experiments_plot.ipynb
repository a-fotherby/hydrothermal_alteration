{
 "cells": [
  {
   "cell_type": "code",
   "execution_count": 10,
   "metadata": {
    "collapsed": true,
    "ExecuteTime": {
     "end_time": "2023-07-06T13:56:08.106697Z",
     "start_time": "2023-07-06T13:56:08.102091Z"
    }
   },
   "source": [
    "import matplotlib as mpl\n",
    "from matplotlib import pyplot as plt\n",
    "\n",
    "import figures\n",
    "figures.initialise('foo')\n",
    "\n",
    "import coeus.plots as plots\n",
    "font_props = figures.font_properties()\n",
    "\n",
    "import numpy as np"
   ],
   "outputs": []
  },
  {
   "cell_type": "code",
   "execution_count": 17,
   "source": [
    "mg = [0.01, 0.02, 0.03, 0.04, 0.05, 0.06]\n",
    "ca = [0.01, 0.02, 0.03, 0.04]\n",
    "so4 = [0.001, 0.01 , 0.02 , 0.03 , 0.04]\n",
    "hco3 = [0.002 , 0.0022, 0.0024, 0.0026, 0.0028]\n",
    "\n",
    "values = [mg, ca, so4, hco3]\n",
    "\n",
    "for i, value in enumerate(values):\n",
    "    values[i] = np.array(value) * 1000\n",
    "\n",
    "species_names = ['Mg$\\mathbf{^{2+}}$', 'Ca$\\mathbf{^{2+}}$', 'SO$\\mathbf{_4^{2-}}$', 'HCO$\\mathbf{_3^-}$']\n",
    "\n",
    "species = list()\n",
    "for i, name in enumerate(species_names):\n",
    "   species.append([name]*len(values[i]))\n",
    "\n",
    "fig, ax = plt.subplots()\n",
    "for specie, value in zip(species, values):\n",
    "    ax.scatter(value, specie, marker='+', s=100)\n",
    "\n",
    "plots.format_axis(ax, 'not_crunch', 'foo', font_props, column=False)\n",
    "\n",
    "ax.set_xlabel('Concentration / mM')\n",
    "ax.set_ylabel('Species')\n",
    "\n",
    "plt.show()\n",
    "fig.tight_layout()\n",
    "fig.savefig('output/experiments.png', dpi=300)\n",
    "\n",
    "# Add circles to indicate seawater compositions\n",
    "sw_defaults = [52.8, 10.3, 28.2, 2.06]\n",
    "\n",
    "ax.scatter(sw_defaults, species_names, c='k', marker='+', s=100, label='Modern Seawater')\n",
    "ax.legend()\n",
    "fig.savefig('output/experiment_2.png', dpi=300)\n"
   ],
   "metadata": {
    "collapsed": false,
    "ExecuteTime": {
     "end_time": "2023-07-06T14:18:40.963962Z",
     "start_time": "2023-07-06T14:18:40.667878Z"
    }
   },
   "outputs": []
  },
  {
   "cell_type": "code",
   "execution_count": 2,
   "source": [],
   "metadata": {
    "collapsed": false,
    "ExecuteTime": {
     "end_time": "2023-07-06T13:52:11.554249Z",
     "start_time": "2023-07-06T13:52:11.553162Z"
    }
   },
   "outputs": []
  }
 ],
 "metadata": {
  "kernelspec": {
   "display_name": "Python 3",
   "language": "python",
   "name": "python3"
  },
  "language_info": {
   "codemirror_mode": {
    "name": "ipython",
    "version": 2
   },
   "file_extension": ".py",
   "mimetype": "text/x-python",
   "name": "python",
   "nbconvert_exporter": "python",
   "pygments_lexer": "ipython2",
   "version": "2.7.6"
  }
 },
 "nbformat": 4,
 "nbformat_minor": 0
}
