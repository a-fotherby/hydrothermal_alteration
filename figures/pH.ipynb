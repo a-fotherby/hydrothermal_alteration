{
 "cells": [
  {
   "cell_type": "markdown",
   "source": [
    "# Plot pH profiles at different times as a function of seawater pH"
   ],
   "metadata": {
    "collapsed": false
   }
  },
  {
   "cell_type": "code",
   "execution_count": 1,
   "outputs": [
    {
     "name": "stdout",
     "output_type": "stream",
     "text": [
      "Returned 24 files without errors out of a total possible 24.\n",
      "0 files had errors.\n",
      "0 files had unhandled errors.\n",
      "File failure rate: 0.0 %.\n",
      "To see unhandled errors, run with verbose=True.\n"
     ]
    }
   ],
   "source": [
    "%load_ext autoreload\n",
    "%autoreload 2\n",
    "%matplotlib notebook\n",
    "%run figures.py\n"
   ],
   "metadata": {
    "collapsed": false,
    "ExecuteTime": {
     "end_time": "2023-05-11T11:03:26.307126Z",
     "start_time": "2023-05-11T11:03:15.410630Z"
    }
   }
  },
  {
   "cell_type": "code",
   "execution_count": 3,
   "outputs": [
    {
     "ename": "KeyError",
     "evalue": "24",
     "output_type": "error",
     "traceback": [
      "\u001B[0;31m---------------------------------------------------------------------------\u001B[0m",
      "\u001B[0;31mKeyError\u001B[0m                                  Traceback (most recent call last)",
      "Cell \u001B[0;32mIn[3], line 5\u001B[0m\n\u001B[1;32m      3\u001B[0m ph_subset \u001B[38;5;241m=\u001B[39m {}\n\u001B[1;32m      4\u001B[0m \u001B[38;5;28;01mfor\u001B[39;00m i \u001B[38;5;129;01min\u001B[39;00m \u001B[38;5;28mrange\u001B[39m(\u001B[38;5;241m20\u001B[39m, \u001B[38;5;241m27\u001B[39m):\n\u001B[0;32m----> 5\u001B[0m     ph_subset\u001B[38;5;241m.\u001B[39mupdate({i: \u001B[43mset1\u001B[49m\u001B[43m[\u001B[49m\u001B[43mi\u001B[49m\u001B[43m]\u001B[49m})\n",
      "\u001B[0;31mKeyError\u001B[0m: 24"
     ]
    }
   ],
   "source": [
    "ph_exp_index = range(20, 27)\n",
    "\n",
    "ph_subset = {}\n",
    "for i in range(20, 27):\n",
    "    ph_subset.update({i: set1[i]})"
   ],
   "metadata": {
    "collapsed": false,
    "ExecuteTime": {
     "end_time": "2023-05-11T11:05:42.554049Z",
     "start_time": "2023-05-11T11:05:41.877377Z"
    }
   }
  },
  {
   "cell_type": "code",
   "execution_count": null,
   "outputs": [],
   "source": [
    "import matplotlib as mpl\n",
    "from matplotlib import pyplot as plt\n",
    "from cmcrameri import cm\n",
    "import numpy as np\n",
    "mpl.rcParams.update(mpl.rcParamsDefault)\n",
    "\n",
    "mpl.rcParams['axes.linewidth'] = 3\n",
    "mpl.style.use('seaborn-poster')\n",
    "\n",
    "time_steps = 25\n",
    "i = 0\n",
    "file_num=0\n",
    "fontsize = 24\n",
    "\n",
    "\n",
    "fig, axes = plt.subplots(1,4, figsize=(20,11))\n",
    "x_labels = ['pH', 'pH', 'pH', 'pH']\n",
    "plot_vars = ['pH', 'pH', 'pH', 'pH']\n",
    "\n",
    "labels = [4.0, 5.0, 6.0, 7.0, 8, 9.0, 10.0]\n",
    "times = [1, 3, 5, 19]\n",
    "titles = ['1 year', '100 years', '10,000 years', '1,000,000 years']\n",
    "\n",
    "# Axis level loop\n",
    "for plot_var, axis, x_label, t, title in zip(plot_vars, axes, x_labels, times, titles):\n",
    "    # Line set loop (i.e. groups of lines sharing a property)\n",
    "        # Line instance loop\n",
    "        for i, label in zip(ph_subset, labels):\n",
    "            try:\n",
    "                x = ph_subset[i].results['pH'].isel(time=t, Y=0, Z=0)['pH']\n",
    "                y = ph_subset[i].results['pH'].isel(time=t, Y=0, Z=0)['X']\n",
    "            except IndexError:\n",
    "                x=0\n",
    "                y=0\n",
    "            axis.plot(x, y, label=label, c=cm.acton_r((label-4)/7))\n",
    "        axis.set_xlabel(x_label, fontweight='bold')\n",
    "        axis.set_ylabel('Depth / m', fontweight='bold')\n",
    "        axis.legend(title='Seawater pH', prop={'weight': 'bold', 'size': 15}, title_fontproperties={'weight': 'bold', 'size': 15}, framealpha=0)\n",
    "        axis.set_title(ph_subset[i].results['pH'].time[t].to_numpy(), weight='bold')\n",
    "\n",
    "for axis in axes:\n",
    "    axis.invert_yaxis()\n",
    "    axis.xaxis.tick_top()\n",
    "    axis.xaxis.set_label_position('top')\n",
    "    axis.grid(False)\n",
    "    axis.tick_params(length=8, width=4)\n",
    "    axis.set_xlim(3,12.5)\n",
    "\n",
    "    for tick in axis.xaxis.get_major_ticks():\n",
    "        tick.label2.set_fontweight('bold')\n",
    "    for tick in axis.yaxis.get_major_ticks():\n",
    "        tick.label1.set_fontweight('bold')\n",
    "\n",
    "\n",
    "fig.tight_layout()\n",
    "fig.show()"
   ],
   "metadata": {
    "collapsed": false
   }
  },
  {
   "cell_type": "code",
   "execution_count": 10,
   "outputs": [],
   "source": [
    "fig.savefig('pH.png', dpi=300)"
   ],
   "metadata": {
    "collapsed": false
   }
  },
  {
   "cell_type": "code",
   "execution_count": null,
   "outputs": [],
   "source": [],
   "metadata": {
    "collapsed": false
   }
  }
 ],
 "metadata": {
  "language_info": {
   "codemirror_mode": {
    "name": "ipython",
    "version": 2
   },
   "file_extension": ".py",
   "mimetype": "text/x-python",
   "name": "python",
   "nbconvert_exporter": "python",
   "pygments_lexer": "ipython2",
   "version": "2.7.6"
  },
  "kernelspec": {
   "name": "python3",
   "language": "python",
   "display_name": "Python 3 (ipykernel)"
  }
 },
 "nbformat": 4,
 "nbformat_minor": 0
}
