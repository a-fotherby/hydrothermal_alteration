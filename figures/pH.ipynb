{
 "cells": [
  {
   "cell_type": "code",
   "execution_count": 1,
   "outputs": [],
   "source": [
    "import sys\n",
    "import pathlib as pl\n",
    "home = pl.Path.home()\n",
    "omph_path = home / 'work' / 'Omphalos'\n",
    "tope_path = home / 'work' / 'topepan'\n",
    "\n",
    "sys.path.append(str(omph_path))\n",
    "sys.path.append(str(tope_path))\n",
    "\n",
    "import omphalos\n",
    "import topepan as tp\n",
    "from topepan import plot as tpp\n",
    "from omphalos import file_methods as fm\n",
    "from coeus import helper as hp\n",
    "import xarray as xr\n"
   ],
   "metadata": {
    "collapsed": false
   }
  },
  {
   "cell_type": "code",
   "execution_count": 4,
   "outputs": [
    {
     "name": "stdout",
     "output_type": "stream",
     "text": [
      "Returned 29 files without errors out of a total possible 29.\n",
      "0 files had errors.\n",
      "0 files had unhandled errors.\n",
      "File failure rate: 0.0 %.\n",
      "To see unhandled errors, run with verbose=True.\n"
     ]
    }
   ],
   "source": [
    "# Read in data for dict.\n",
    "pickle = 'rr_06-03-23.pkl'\n",
    "path = home / 'work' / 'data' / 'hydrothermal_alteration' / pickle\n",
    "raw = fm.unpickle(path)\n",
    "\n",
    "dataset, errors = hp.filter_errors(raw)\n",
    "\n",
    "dataset = hp.fix_smalls(dataset, 'volume')"
   ],
   "metadata": {
    "collapsed": false
   }
  },
  {
   "cell_type": "code",
   "execution_count": 5,
   "outputs": [],
   "source": [
    "ph_exp_index = range(20, 27)\n",
    "\n",
    "ph_subset = {}\n",
    "for i in range(20, 27):\n",
    "    ph_subset.update({i: dataset[i]})"
   ],
   "metadata": {
    "collapsed": false
   }
  },
  {
   "cell_type": "code",
   "execution_count": 8,
   "outputs": [
    {
     "name": "stderr",
     "output_type": "stream",
     "text": [
      "/var/folders/86/d5n0l2wj5yn0p84q_4jzm_6r0000gn/T/ipykernel_34201/2178368570.py:8: MatplotlibDeprecationWarning: The seaborn styles shipped by Matplotlib are deprecated since 3.6, as they no longer correspond to the styles shipped by seaborn. However, they will remain available as 'seaborn-v0_8-<style>'. Alternatively, directly use the seaborn API instead.\n",
      "  mpl.style.use('seaborn-poster')\n",
      "/var/folders/86/d5n0l2wj5yn0p84q_4jzm_6r0000gn/T/ipykernel_34201/2178368570.py:56: UserWarning: Matplotlib is currently using module://matplotlib_inline.backend_inline, which is a non-GUI backend, so cannot show the figure.\n",
      "  fig.show()\n"
     ]
    }
   ],
   "source": [
    "import matplotlib as mpl\n",
    "from matplotlib import pyplot as plt\n",
    "from cmcrameri import cm\n",
    "import numpy as np\n",
    "mpl.rcParams.update(mpl.rcParamsDefault)\n",
    "\n",
    "mpl.rcParams['axes.linewidth'] = 3\n",
    "mpl.style.use('seaborn-poster')\n",
    "\n",
    "time_steps = 25\n",
    "i = 0\n",
    "file_num=0\n",
    "fontsize = 24\n",
    "\n",
    "\n",
    "fig, axes = plt.subplots(1,4, figsize=(20,11))\n",
    "x_labels = ['pH', 'pH', 'pH', 'pH']\n",
    "plot_vars = ['pH', 'pH', 'pH', 'pH']\n",
    "\n",
    "labels = [4.0, 5.0, 6.0, 7.0, 8, 9.0, 10.0]\n",
    "times = [1, 3, 5, 19]\n",
    "titles = ['1 year', '100 years', '10,000 years', '1,000,000 years']\n",
    "\n",
    "# Axis level loop\n",
    "for plot_var, axis, x_label, t, title in zip(plot_vars, axes, x_labels, times, titles):\n",
    "    # Line set loop (i.e. groups of lines sharing a property)\n",
    "        # Line instance loop\n",
    "        for i, label in zip(ph_subset, labels):\n",
    "            try:\n",
    "                x = ph_subset[i].results['pH'].isel(time=t, Y=0, Z=0)['pH']\n",
    "                y = ph_subset[i].results['pH'].isel(time=t, Y=0, Z=0)['X']\n",
    "            except IndexError:\n",
    "                x=0\n",
    "                y=0\n",
    "            axis.plot(x, y, label=label, c=cm.acton_r((label-4)/7))\n",
    "        axis.set_xlabel(x_label, fontweight='bold')\n",
    "        axis.set_ylabel('Depth / m', fontweight='bold')\n",
    "        axis.legend(title='Seawater pH', prop={'weight': 'bold', 'size': 15}, title_fontproperties={'weight': 'bold', 'size': 15}, framealpha=0)\n",
    "        axis.set_title(ph_subset[i].results['pH'].time[t].to_numpy(), weight='bold')\n",
    "\n",
    "for axis in axes:\n",
    "    axis.invert_yaxis()\n",
    "    axis.xaxis.tick_top()\n",
    "    axis.xaxis.set_label_position('top')\n",
    "    axis.grid(False)\n",
    "    axis.tick_params(length=8, width=4)\n",
    "    axis.set_xlim(3,12.5)\n",
    "\n",
    "    for tick in axis.xaxis.get_major_ticks():\n",
    "        tick.label2.set_fontweight('bold')\n",
    "    for tick in axis.yaxis.get_major_ticks():\n",
    "        tick.label1.set_fontweight('bold')\n",
    "\n",
    "\n",
    "fig.tight_layout()\n",
    "fig.show()"
   ],
   "metadata": {
    "collapsed": false
   }
  },
  {
   "cell_type": "code",
   "execution_count": 10,
   "outputs": [],
   "source": [
    "fig.savefig('pH.png', dpi=300)"
   ],
   "metadata": {
    "collapsed": false
   }
  },
  {
   "cell_type": "code",
   "execution_count": null,
   "outputs": [],
   "source": [],
   "metadata": {
    "collapsed": false
   }
  }
 ],
 "metadata": {
  "language_info": {
   "codemirror_mode": {
    "name": "ipython",
    "version": 2
   },
   "file_extension": ".py",
   "mimetype": "text/x-python",
   "name": "python",
   "nbconvert_exporter": "python",
   "pygments_lexer": "ipython2",
   "version": "2.7.6"
  }
 },
 "nbformat": 4,
 "nbformat_minor": 0
}
