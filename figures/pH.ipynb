{
 "cells": [
  {
   "cell_type": "markdown",
   "source": [
    "# Plot pH profiles at different times as a function of seawater pH"
   ],
   "metadata": {
    "collapsed": false
   }
  },
  {
   "cell_type": "code",
   "execution_count": 3,
   "outputs": [
    {
     "name": "stdout",
     "output_type": "stream",
     "text": [
      "The autoreload extension is already loaded. To reload it, use:\n",
      "  %reload_ext autoreload\n"
     ]
    }
   ],
   "source": [
    "%load_ext autoreload\n",
    "%autoreload 2\n",
    "%matplotlib notebook\n",
    "%run figures.py 'hta_2deg.nc' -c volume\n"
   ],
   "metadata": {
    "collapsed": false,
    "ExecuteTime": {
     "end_time": "2023-06-19T13:09:14.050627Z",
     "start_time": "2023-06-19T13:09:13.641797Z"
    }
   }
  },
  {
   "cell_type": "code",
   "execution_count": 4,
   "outputs": [],
   "source": [
    "# pH runs are 19-24"
   ],
   "metadata": {
    "collapsed": false,
    "ExecuteTime": {
     "end_time": "2023-06-19T13:09:14.070207Z",
     "start_time": "2023-06-19T13:09:14.051549Z"
    }
   }
  },
  {
   "cell_type": "code",
   "execution_count": 8,
   "outputs": [
    {
     "name": "stderr",
     "output_type": "stream",
     "text": [
      "/var/folders/86/d5n0l2wj5yn0p84q_4jzm_6r0000gn/T/ipykernel_63248/976861384.py:8: MatplotlibDeprecationWarning: The seaborn styles shipped by Matplotlib are deprecated since 3.6, as they no longer correspond to the styles shipped by seaborn. However, they will remain available as 'seaborn-v0_8-<style>'. Alternatively, directly use the seaborn API instead.\n",
      "  mpl.style.use('seaborn-poster')\n"
     ]
    },
    {
     "ename": "KeyError",
     "evalue": "0",
     "output_type": "error",
     "traceback": [
      "\u001B[0;31m---------------------------------------------------------------------------\u001B[0m",
      "\u001B[0;31mKeyError\u001B[0m                                  Traceback (most recent call last)",
      "Cell \u001B[0;32mIn[8], line 31\u001B[0m\n\u001B[1;32m     27\u001B[0m \u001B[38;5;28;01mfor\u001B[39;00m plot_var, axis, x_label, t, title \u001B[38;5;129;01min\u001B[39;00m \u001B[38;5;28mzip\u001B[39m(plot_vars, axes, x_labels, times, titles):\n\u001B[1;32m     28\u001B[0m     \u001B[38;5;66;03m# Line set loop (i.e. groups of lines sharing a property)\u001B[39;00m\n\u001B[1;32m     29\u001B[0m         \u001B[38;5;66;03m# Line instance loop\u001B[39;00m\n\u001B[1;32m     30\u001B[0m         \u001B[38;5;28;01mtry\u001B[39;00m:\n\u001B[0;32m---> 31\u001B[0m             x \u001B[38;5;241m=\u001B[39m \u001B[43mdata\u001B[49m\u001B[43m[\u001B[49m\u001B[43mi\u001B[49m\u001B[43m]\u001B[49m\u001B[38;5;241m.\u001B[39mresults[\u001B[38;5;124m'\u001B[39m\u001B[38;5;124mpH\u001B[39m\u001B[38;5;124m'\u001B[39m]\u001B[38;5;241m.\u001B[39misel(file_num \u001B[38;5;241m=\u001B[39m ph_subset, time\u001B[38;5;241m=\u001B[39mt, Y\u001B[38;5;241m=\u001B[39m\u001B[38;5;241m0\u001B[39m, Z\u001B[38;5;241m=\u001B[39m\u001B[38;5;241m0\u001B[39m)[\u001B[38;5;124m'\u001B[39m\u001B[38;5;124mpH\u001B[39m\u001B[38;5;124m'\u001B[39m]\n\u001B[1;32m     32\u001B[0m             y \u001B[38;5;241m=\u001B[39m data[i]\u001B[38;5;241m.\u001B[39mresults[\u001B[38;5;124m'\u001B[39m\u001B[38;5;124mpH\u001B[39m\u001B[38;5;124m'\u001B[39m]\u001B[38;5;241m.\u001B[39misel(file_num \u001B[38;5;241m=\u001B[39m ph_subset,  time\u001B[38;5;241m=\u001B[39mt, Y\u001B[38;5;241m=\u001B[39m\u001B[38;5;241m0\u001B[39m, Z\u001B[38;5;241m=\u001B[39m\u001B[38;5;241m0\u001B[39m)[\u001B[38;5;124m'\u001B[39m\u001B[38;5;124mX\u001B[39m\u001B[38;5;124m'\u001B[39m]\n\u001B[1;32m     33\u001B[0m         \u001B[38;5;28;01mexcept\u001B[39;00m \u001B[38;5;167;01mIndexError\u001B[39;00m:\n",
      "\u001B[0;31mKeyError\u001B[0m: 0"
     ]
    }
   ],
   "source": [
    "import matplotlib as mpl\n",
    "from matplotlib import pyplot as plt\n",
    "from cmcrameri import cm\n",
    "import numpy as np\n",
    "mpl.rcParams.update(mpl.rcParamsDefault)\n",
    "\n",
    "mpl.rcParams['axes.linewidth'] = 3\n",
    "mpl.style.use('seaborn-poster')\n",
    "\n",
    "time_steps = 25\n",
    "i = 0\n",
    "file_num=0\n",
    "fontsize = 24\n",
    "\n",
    "ph_subset = range(19, 24)\n",
    "\n",
    "\n",
    "fig, axes = plt.subplots(1,4, figsize=(20,11))\n",
    "x_labels = ['pH', 'pH', 'pH', 'pH']\n",
    "plot_vars = ['pH', 'pH', 'pH', 'pH']\n",
    "\n",
    "labels = [7.0, 8, 9.0, 10.0, 11]\n",
    "times = [1, 3, 5, 19]\n",
    "titles = ['1 year', '100 years', '10,000 years', '1,000,000 years']\n",
    "\n",
    "# Axis level loop\n",
    "for plot_var, axis, x_label, t, title in zip(plot_vars, axes, x_labels, times, titles):\n",
    "    # Line set loop (i.e. groups of lines sharing a property)\n",
    "        # Line instance loop\n",
    "        try:\n",
    "            x = data[i].results['pH'].isel(file_num = ph_subset, time=t, Y=0, Z=0)['pH']\n",
    "            y = data[i].results['pH'].isel(file_num = ph_subset,  time=t, Y=0, Z=0)['X']\n",
    "        except IndexError:\n",
    "            x=0\n",
    "            y=0\n",
    "        axis.plot(x, y)\n",
    "        axis.set_xlabel(x_label, fontweight='bold')\n",
    "        axis.set_ylabel('Depth / m', fontweight='bold')\n",
    "        axis.legend(title='Seawater pH', prop={'weight': 'bold', 'size': 15}, title_fontproperties={'weight': 'bold', 'size': 15}, framealpha=0)\n",
    "        axis.set_title(ph_subset[i].results['pH'].time[t].to_numpy(), weight='bold')\n",
    "\n",
    "for axis in axes:\n",
    "    axis.invert_yaxis()\n",
    "    axis.xaxis.tick_top()\n",
    "    axis.xaxis.set_label_position('top')\n",
    "    axis.grid(False)\n",
    "    axis.tick_params(length=8, width=4)\n",
    "    axis.set_xlim(3,12.5)\n",
    "\n",
    "    for tick in axis.xaxis.get_major_ticks():\n",
    "        tick.label2.set_fontweight('bold')\n",
    "    for tick in axis.yaxis.get_major_ticks():\n",
    "        tick.label1.set_fontweight('bold')\n",
    "\n",
    "\n",
    "fig.tight_layout()\n",
    "fig.show()"
   ],
   "metadata": {
    "collapsed": false,
    "ExecuteTime": {
     "end_time": "2023-06-19T13:16:11.989577Z",
     "start_time": "2023-06-19T13:16:11.931739Z"
    }
   }
  },
  {
   "cell_type": "code",
   "execution_count": 10,
   "outputs": [],
   "source": [
    "fig.savefig('pH.png', dpi=300)"
   ],
   "metadata": {
    "collapsed": false
   }
  },
  {
   "cell_type": "code",
   "execution_count": null,
   "outputs": [],
   "source": [],
   "metadata": {
    "collapsed": false
   }
  }
 ],
 "metadata": {
  "language_info": {
   "codemirror_mode": {
    "name": "ipython",
    "version": 2
   },
   "file_extension": ".py",
   "mimetype": "text/x-python",
   "name": "python",
   "nbconvert_exporter": "python",
   "pygments_lexer": "ipython2",
   "version": "2.7.6"
  },
  "kernelspec": {
   "name": "python3",
   "language": "python",
   "display_name": "Python 3 (ipykernel)"
  }
 },
 "nbformat": 4,
 "nbformat_minor": 0
}
